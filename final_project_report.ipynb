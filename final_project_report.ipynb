{
 "cells": [
  {
   "cell_type": "markdown",
   "id": "027a1e53-ce92-4b68-b9cd-f95b0294fe9e",
   "metadata": {
    "id": "6af0db38-1a71-4481-82ef-18d47f0067eb"
   },
   "source": [
    "# Stanford Open Policing Data - Nashville, TN Analysis\n",
    "\n",
    "## Team: The Brent Spiners\n",
    "\n",
    "- Kyle Absten\n",
    "- Ramo Tucakovic\n",
    "- Ranjita Kaur\n",
    "- Juan Gutierrez"
   ]
  },
  {
   "cell_type": "markdown",
   "id": "ccbca0dd-8c47-479a-bf3f-5604ce8112cb",
   "metadata": {},
   "source": [
    "## Introduction\n",
    "\n",
    "For our final project, we got our hands on a hefty dataset from Stanford University's Open Policing project, specifically traffic stop data from Nashville, Tennessee. We chose the dataset from Nasheville TN because it contained a good amount of entries (~3m), with the most complete feature set. Our goal was to build a model that can predict the outcome of these stops: either a warning or something more serious, like a ticket or arrest. This will be a classification solution with only two possible outcomes\" WARNING or INFRACTION, with infraction encompassing tickets and/or arrests. We want to create a data-driven model to predict the outcome of a traffic stop and investigate which factors are most important to that model. \n",
    "\n",
    "We begin importing the relevant libraries for our project."
   ]
  },
  {
   "cell_type": "code",
   "execution_count": 1,
   "id": "21884a05-15d2-4fab-b884-9781f76f2ef1",
   "metadata": {},
   "outputs": [],
   "source": [
    "import pandas as pd\n",
    "import numpy as np\n",
    "import seaborn as sns\n",
    "import matplotlib.pyplot as plt\n",
    "import datetime\n",
    "import graphviz\n",
    "import pgeocode\n",
    "import re\n",
    "import requests\n",
    "import time\n",
    "from sklearn.preprocessing import LabelEncoder, OrdinalEncoder\n",
    "from sklearn.neighbors import KNeighborsClassifier, KNeighborsRegressor\n",
    "from sklearn.model_selection import train_test_split, cross_val_score, GridSearchCV\n",
    "from sklearn.tree import DecisionTreeClassifier, export_graphviz\n",
    "from sklearn.linear_model import LogisticRegression\n",
    "from sklearn.metrics import accuracy_score, mean_squared_error\n",
    "from sklearn.ensemble import HistGradientBoostingClassifier\n",
    "from sklearn.inspection import permutation_importance"
   ]
  },
  {
   "cell_type": "markdown",
   "id": "UoFQ_gz0Yenk",
   "metadata": {
    "id": "UoFQ_gz0Yenk"
   },
   "source": [
    "## Selection of Data\n",
    "#### Source of the Data\n",
    "The data we chose can be found here: https://stacks.stanford.edu/file/druid:yg821jf8611/yg821jf8611_tn_nashville_2020_04_01.csv.zip\n",
    "\n",
    "Consider loading the data from a local CSV file, as the download takes several minutes.\n"
   ]
  },
  {
   "cell_type": "code",
   "execution_count": 2,
   "id": "b40ba97f-591f-4e2a-a219-a556f58edf61",
   "metadata": {
    "colab": {
     "base_uri": "https://localhost:8080/",
     "height": 283
    },
    "id": "b40ba97f-591f-4e2a-a219-a556f58edf61",
    "outputId": "c1b0e164-f160-43ae-acab-0fbc754d9795"
   },
   "outputs": [],
   "source": [
    "dataset_path = 'https://stacks.stanford.edu/file/druid:yg821jf8611/yg821jf8611_tn_nashville_2020_04_01.csv.zip'\n",
    "df = pd.read_csv(dataset_path, low_memory=False)"
   ]
  },
  {
   "cell_type": "markdown",
   "id": "de3ae1d3-a122-43a8-a84c-2640df53ffbc",
   "metadata": {},
   "source": [
    "#### Data Exploration"
   ]
  },
  {
   "cell_type": "code",
   "execution_count": 3,
   "id": "38e90e4d-380b-407d-b186-813d38a41b4a",
   "metadata": {},
   "outputs": [
    {
     "name": "stdout",
     "output_type": "stream",
     "text": [
      "<class 'pandas.core.frame.DataFrame'>\n",
      "RangeIndex: 3092351 entries, 0 to 3092350\n",
      "Data columns (total 42 columns):\n",
      " #   Column                          Dtype  \n",
      "---  ------                          -----  \n",
      " 0   raw_row_number                  object \n",
      " 1   date                            object \n",
      " 2   time                            object \n",
      " 3   location                        object \n",
      " 4   lat                             float64\n",
      " 5   lng                             float64\n",
      " 6   precinct                        object \n",
      " 7   reporting_area                  float64\n",
      " 8   zone                            object \n",
      " 9   subject_age                     float64\n",
      " 10  subject_race                    object \n",
      " 11  subject_sex                     object \n",
      " 12  officer_id_hash                 object \n",
      " 13  type                            object \n",
      " 14  violation                       object \n",
      " 15  arrest_made                     object \n",
      " 16  citation_issued                 object \n",
      " 17  warning_issued                  object \n",
      " 18  outcome                         object \n",
      " 19  contraband_found                object \n",
      " 20  contraband_drugs                object \n",
      " 21  contraband_weapons              object \n",
      " 22  frisk_performed                 object \n",
      " 23  search_conducted                object \n",
      " 24  search_person                   object \n",
      " 25  search_vehicle                  object \n",
      " 26  search_basis                    object \n",
      " 27  reason_for_stop                 object \n",
      " 28  vehicle_registration_state      object \n",
      " 29  notes                           object \n",
      " 30  raw_verbal_warning_issued       object \n",
      " 31  raw_written_warning_issued      object \n",
      " 32  raw_traffic_citation_issued     object \n",
      " 33  raw_misd_state_citation_issued  object \n",
      " 34  raw_suspect_ethnicity           object \n",
      " 35  raw_driver_searched             object \n",
      " 36  raw_passenger_searched          object \n",
      " 37  raw_search_consent              object \n",
      " 38  raw_search_arrest               object \n",
      " 39  raw_search_warrant              bool   \n",
      " 40  raw_search_inventory            object \n",
      " 41  raw_search_plain_view           object \n",
      "dtypes: bool(1), float64(4), object(37)\n",
      "memory usage: 970.3+ MB\n"
     ]
    },
    {
     "data": {
      "text/html": [
       "<div>\n",
       "<style scoped>\n",
       "    .dataframe tbody tr th:only-of-type {\n",
       "        vertical-align: middle;\n",
       "    }\n",
       "\n",
       "    .dataframe tbody tr th {\n",
       "        vertical-align: top;\n",
       "    }\n",
       "\n",
       "    .dataframe thead th {\n",
       "        text-align: right;\n",
       "    }\n",
       "</style>\n",
       "<table border=\"1\" class=\"dataframe\">\n",
       "  <thead>\n",
       "    <tr style=\"text-align: right;\">\n",
       "      <th></th>\n",
       "      <th>raw_row_number</th>\n",
       "      <th>date</th>\n",
       "      <th>time</th>\n",
       "      <th>location</th>\n",
       "      <th>lat</th>\n",
       "      <th>lng</th>\n",
       "      <th>precinct</th>\n",
       "      <th>reporting_area</th>\n",
       "      <th>zone</th>\n",
       "      <th>subject_age</th>\n",
       "      <th>...</th>\n",
       "      <th>raw_traffic_citation_issued</th>\n",
       "      <th>raw_misd_state_citation_issued</th>\n",
       "      <th>raw_suspect_ethnicity</th>\n",
       "      <th>raw_driver_searched</th>\n",
       "      <th>raw_passenger_searched</th>\n",
       "      <th>raw_search_consent</th>\n",
       "      <th>raw_search_arrest</th>\n",
       "      <th>raw_search_warrant</th>\n",
       "      <th>raw_search_inventory</th>\n",
       "      <th>raw_search_plain_view</th>\n",
       "    </tr>\n",
       "  </thead>\n",
       "  <tbody>\n",
       "    <tr>\n",
       "      <th>2923723</th>\n",
       "      <td>1860668</td>\n",
       "      <td>2014-09-14</td>\n",
       "      <td>01:29:00</td>\n",
       "      <td>MYATT DR &amp; MYATT DR, MADISON, TN, 37115</td>\n",
       "      <td>36.279954</td>\n",
       "      <td>-86.691211</td>\n",
       "      <td>7</td>\n",
       "      <td>1715.0</td>\n",
       "      <td>715</td>\n",
       "      <td>25.0</td>\n",
       "      <td>...</td>\n",
       "      <td>False</td>\n",
       "      <td>False</td>\n",
       "      <td>N</td>\n",
       "      <td>False</td>\n",
       "      <td>False</td>\n",
       "      <td>False</td>\n",
       "      <td>False</td>\n",
       "      <td>False</td>\n",
       "      <td>False</td>\n",
       "      <td>False</td>\n",
       "    </tr>\n",
       "    <tr>\n",
       "      <th>2702709</th>\n",
       "      <td>2215034</td>\n",
       "      <td>2015-08-13</td>\n",
       "      <td>11:33:00</td>\n",
       "      <td>BRILEY PKWY N &amp; MURFREESBORO PIKE, NASHVILLE, ...</td>\n",
       "      <td>36.122074</td>\n",
       "      <td>-86.702419</td>\n",
       "      <td>3</td>\n",
       "      <td>8831.0</td>\n",
       "      <td>315</td>\n",
       "      <td>66.0</td>\n",
       "      <td>...</td>\n",
       "      <td>True</td>\n",
       "      <td>False</td>\n",
       "      <td>N</td>\n",
       "      <td>False</td>\n",
       "      <td>False</td>\n",
       "      <td>False</td>\n",
       "      <td>False</td>\n",
       "      <td>False</td>\n",
       "      <td>False</td>\n",
       "      <td>False</td>\n",
       "    </tr>\n",
       "    <tr>\n",
       "      <th>635941</th>\n",
       "      <td>1555104</td>\n",
       "      <td>2013-12-24</td>\n",
       "      <td>08:17:00</td>\n",
       "      <td>S 7TH ST &amp; SYLVAN ST, NASHVILLE, TN, 37206</td>\n",
       "      <td>36.168169</td>\n",
       "      <td>-86.757240</td>\n",
       "      <td>2</td>\n",
       "      <td>1043.0</td>\n",
       "      <td>211</td>\n",
       "      <td>39.0</td>\n",
       "      <td>...</td>\n",
       "      <td>False</td>\n",
       "      <td>False</td>\n",
       "      <td>N</td>\n",
       "      <td>False</td>\n",
       "      <td>False</td>\n",
       "      <td>False</td>\n",
       "      <td>False</td>\n",
       "      <td>False</td>\n",
       "      <td>False</td>\n",
       "      <td>False</td>\n",
       "    </tr>\n",
       "  </tbody>\n",
       "</table>\n",
       "<p>3 rows × 42 columns</p>\n",
       "</div>"
      ],
      "text/plain": [
       "        raw_row_number        date      time  \\\n",
       "2923723        1860668  2014-09-14  01:29:00   \n",
       "2702709        2215034  2015-08-13  11:33:00   \n",
       "635941         1555104  2013-12-24  08:17:00   \n",
       "\n",
       "                                                  location        lat  \\\n",
       "2923723            MYATT DR & MYATT DR, MADISON, TN, 37115  36.279954   \n",
       "2702709  BRILEY PKWY N & MURFREESBORO PIKE, NASHVILLE, ...  36.122074   \n",
       "635941          S 7TH ST & SYLVAN ST, NASHVILLE, TN, 37206  36.168169   \n",
       "\n",
       "               lng precinct  reporting_area zone  subject_age  ...  \\\n",
       "2923723 -86.691211        7          1715.0  715         25.0  ...   \n",
       "2702709 -86.702419        3          8831.0  315         66.0  ...   \n",
       "635941  -86.757240        2          1043.0  211         39.0  ...   \n",
       "\n",
       "        raw_traffic_citation_issued raw_misd_state_citation_issued  \\\n",
       "2923723                       False                          False   \n",
       "2702709                        True                          False   \n",
       "635941                        False                          False   \n",
       "\n",
       "        raw_suspect_ethnicity raw_driver_searched raw_passenger_searched  \\\n",
       "2923723                     N               False                  False   \n",
       "2702709                     N               False                  False   \n",
       "635941                      N               False                  False   \n",
       "\n",
       "        raw_search_consent raw_search_arrest raw_search_warrant  \\\n",
       "2923723              False             False              False   \n",
       "2702709              False             False              False   \n",
       "635941               False             False              False   \n",
       "\n",
       "        raw_search_inventory raw_search_plain_view  \n",
       "2923723                False                 False  \n",
       "2702709                False                 False  \n",
       "635941                 False                 False  \n",
       "\n",
       "[3 rows x 42 columns]"
      ]
     },
     "execution_count": 3,
     "metadata": {},
     "output_type": "execute_result"
    }
   ],
   "source": [
    "df.info()\n",
    "df.sample(3)"
   ]
  },
  {
   "cell_type": "markdown",
   "id": "7IQJHn1-YTPt",
   "metadata": {
    "id": "7IQJHn1-YTPt"
   },
   "source": [
    "Looking at our dataset, we have 42 different features. 1 feature is boolean, 4 are numeric and the remaining 37 are object. Not all of these features will be helpful to predict whether a future police interaction will result in an infraction or not. A few thoughts on some of the features in our dataset:\n",
    "\n",
    "raw_row_number- From the doumentation: \"A number used to join clean data back to the raw data\". For our purposes this is not needed.\n",
    "\n",
    "date- This is the date of the stop. We will look at converting this feature to day_of_week, and see if there is any predictive correlation between the day of the week and whether an infraction is given.\n",
    "\n",
    "location, lat, long, precint, reporting_area, zone- These are all variable that deal with where the stop happened and/or the specific police department involved in the stop. It's likely that we will need to drop some of these columns, as they appear to be mostly repetitive data.\n",
    "\n",
    "officer_id_hash- This is an identifier for the officer involved in the stop. From the documention\n",
    "\n",
    "type- From documentation: \"Type of stop: vehicular or pedestrian.\"\n",
    "\n",
    "violation- From documentation: \"Specific violation of stop where provided. What is recorded here varies widely across police departments.\" Will need to investigate further.\n",
    "\n",
    "arrest_made, citation_issued, warning_issued, outcome- These are all outcomes of the stop. Because we are only aiming to predict whether the driver will result in an infraction(anything greater than a warning), all of these features can be combined into one: outcome. This will be our target variable.\n",
    "\n",
    "contraband_found, contraband_drugs, contraband_weapons- These are all variables related to the subject being found to have illegal items.\n",
    "Need to investigate more to decide whether to include these in the model.\n",
    "\n",
    "search_conducted, search_person, search_vehicle, search_basis- Similar to contraband data, needs further investigation.\n",
    "\n",
    "notes- From documentation: \"A freeform text field containing any officer notes.\" Needs further look, but likely needs to be dropped\n",
    "\n",
    "raw_verbal_warning_issued, raw_written_warning_issued, raw_traffic_citation_issued, raw_misd_state_citation_issued, raw_suspect_ethnicity,\n",
    "raw_driver_searched, raw_passenger_searched, raw_search_consent, raw_search_arrest, raw_search_warrant, raw_search_inventory,\n",
    "raw_search_plain_view- These are all raw versions of other variables in the dataset and can therefore be dropped.\n",
    "\n",
    "\n",
    "Overall, our dataset is primarily categorical data. Knowing this, we will likely use a decision tree for our model.\n",
    "\n",
    "#### Preprocessing and Preparing Data for Modeling"
   ]
  },
  {
   "cell_type": "code",
   "execution_count": 4,
   "id": "df33e52c-c167-4227-a846-374b29da8b0f",
   "metadata": {
    "colab": {
     "base_uri": "https://localhost:8080/"
    },
    "id": "df33e52c-c167-4227-a846-374b29da8b0f",
    "outputId": "6f8b863d-6e3f-4e4f-eaa3-f18a4a139957"
   },
   "outputs": [
    {
     "name": "stdout",
     "output_type": "stream",
     "text": [
      "<class 'pandas.core.frame.DataFrame'>\n",
      "RangeIndex: 3092351 entries, 0 to 3092350\n",
      "Data columns (total 29 columns):\n",
      " #   Column                      Dtype  \n",
      "---  ------                      -----  \n",
      " 0   date                        object \n",
      " 1   time                        object \n",
      " 2   location                    object \n",
      " 3   lat                         float64\n",
      " 4   lng                         float64\n",
      " 5   precinct                    object \n",
      " 6   reporting_area              float64\n",
      " 7   zone                        object \n",
      " 8   subject_age                 float64\n",
      " 9   subject_race                object \n",
      " 10  subject_sex                 object \n",
      " 11  officer_id_hash             object \n",
      " 12  type                        object \n",
      " 13  violation                   object \n",
      " 14  arrest_made                 object \n",
      " 15  citation_issued             object \n",
      " 16  warning_issued              object \n",
      " 17  outcome                     object \n",
      " 18  contraband_found            object \n",
      " 19  contraband_drugs            object \n",
      " 20  contraband_weapons          object \n",
      " 21  frisk_performed             object \n",
      " 22  search_conducted            object \n",
      " 23  search_person               object \n",
      " 24  search_vehicle              object \n",
      " 25  search_basis                object \n",
      " 26  reason_for_stop             object \n",
      " 27  vehicle_registration_state  object \n",
      " 28  notes                       object \n",
      "dtypes: float64(4), object(25)\n",
      "memory usage: 684.2+ MB\n"
     ]
    }
   ],
   "source": [
    "features_to_drop = ['raw_row_number', 'raw_verbal_warning_issued', 'raw_written_warning_issued', 'raw_traffic_citation_issued', 'raw_misd_state_citation_issued', 'raw_suspect_ethnicity', 'raw_driver_searched', 'raw_passenger_searched', 'raw_search_consent', 'raw_search_arrest', 'raw_search_warrant', 'raw_search_inventory', 'raw_search_plain_view']\n",
    "df.drop(features_to_drop,axis=1, inplace=True)\n",
    "df.info()"
   ]
  },
  {
   "cell_type": "markdown",
   "id": "e7bFA46wYLdZ",
   "metadata": {
    "id": "e7bFA46wYLdZ"
   },
   "source": [
    "This cuts our feature set from 42 to 29.\n",
    "Now we will look at the remaining features to assess nan values."
   ]
  },
  {
   "cell_type": "code",
   "execution_count": 5,
   "id": "5e9c9299-c30c-4062-933b-01ca161bfc23",
   "metadata": {
    "colab": {
     "base_uri": "https://localhost:8080/"
    },
    "id": "5e9c9299-c30c-4062-933b-01ca161bfc23",
    "outputId": "5cf94254-bbb7-4f16-e27b-1d5d611e13ad"
   },
   "outputs": [
    {
     "data": {
      "text/plain": [
       "date                                0\n",
       "time                             5467\n",
       "location                            0\n",
       "lat                            187106\n",
       "lng                            187106\n",
       "precinct                       390222\n",
       "reporting_area                 332393\n",
       "zone                           390222\n",
       "subject_age                       839\n",
       "subject_race                     1850\n",
       "subject_sex                     12822\n",
       "officer_id_hash                    11\n",
       "type                                0\n",
       "violation                        8020\n",
       "arrest_made                        28\n",
       "citation_issued                   320\n",
       "warning_issued                    337\n",
       "outcome                          1935\n",
       "contraband_found              2964646\n",
       "contraband_drugs              2964646\n",
       "contraband_weapons            2964646\n",
       "frisk_performed                    22\n",
       "search_conducted                   39\n",
       "search_person                      43\n",
       "search_vehicle                     41\n",
       "search_basis                  2964646\n",
       "reason_for_stop                  8020\n",
       "vehicle_registration_state      31791\n",
       "notes                         2579713\n",
       "dtype: int64"
      ]
     },
     "execution_count": 5,
     "metadata": {},
     "output_type": "execute_result"
    }
   ],
   "source": [
    "df.isnull().sum()"
   ]
  },
  {
   "cell_type": "markdown",
   "id": "JDoljdYBX-7R",
   "metadata": {
    "id": "JDoljdYBX-7R"
   },
   "source": [
    "What jumps out the most is contraband found, contraband drugs, contraband weapons, search basis and notes are almost enitrely nan and\n",
    "therefore should likely be dropped from the dataset."
   ]
  },
  {
   "cell_type": "code",
   "execution_count": 6,
   "id": "ed9be0ea-28d8-41cf-97f6-6f39c9b07ce0",
   "metadata": {
    "colab": {
     "base_uri": "https://localhost:8080/"
    },
    "id": "ed9be0ea-28d8-41cf-97f6-6f39c9b07ce0",
    "outputId": "8daa683f-3d9f-40bd-d905-113d177cbd42"
   },
   "outputs": [
    {
     "data": {
      "text/plain": [
       "0.9587029415483559"
      ]
     },
     "execution_count": 6,
     "metadata": {},
     "output_type": "execute_result"
    }
   ],
   "source": [
    "df['contraband_found'].isnull().sum()/df.shape[0]"
   ]
  },
  {
   "cell_type": "code",
   "execution_count": 7,
   "id": "bthCws6YX6u0",
   "metadata": {
    "colab": {
     "base_uri": "https://localhost:8080/"
    },
    "id": "bthCws6YX6u0",
    "outputId": "8d4a8b7a-bb3a-4338-d703-21e405a172ee"
   },
   "outputs": [
    {
     "data": {
      "text/plain": [
       "19                                               -----\\n\n",
       "26                             VIN- WBABK----TET----- \\n\n",
       "38              DRIVER SIDE TAIL LIGHT NOT FUNCTIONING\\n\n",
       "40                                          DUI ARREST\\n\n",
       "42                                        EXPIRED TAGS\\n\n",
       "46                                            SPEEDING\\n\n",
       "71                      PASSENGER SIDE BRAKE LIGHT OUT\\n\n",
       "80                                       HEADLIGHT OUT\\n\n",
       "84                                         NO COMPUTER\\n\n",
       "85                                                 dui\\n\n",
       "86     SUBJECTS VEHICLE CLOCKED AT -- MPH IN A POSTED...\n",
       "116                                        NO COMPUTER\\n\n",
       "127                                            NO BELT\\n\n",
       "130    TURNING AT INTERSECTION VIOLATION COMMITTED AT...\n",
       "136                                          headlight\\n\n",
       "143                                                 hl\\n\n",
       "156    BRAKE LIGHT HAS A SHORT IN IT-DRIVER GOT IT BA...\n",
       "182                                                DUI\\n\n",
       "189    RAN OFF ROAD. STOPPED TO CHECK FOR DUI. DRIVER...\n",
       "198    FORMSTREAM WOULD NOT PULL UP THE MOBILE STOP D...\n",
       "Name: notes, dtype: object"
      ]
     },
     "execution_count": 7,
     "metadata": {},
     "output_type": "execute_result"
    }
   ],
   "source": [
    "df[df['notes'].notnull()]['notes'].head(20)"
   ]
  },
  {
   "cell_type": "markdown",
   "id": "kPiclJWdjFKc",
   "metadata": {
    "id": "kPiclJWdjFKc"
   },
   "source": [
    "As we can see, contraband found, contraband drugs, contraband weapons, search basis and notes have 95% nan values. Also\n",
    "the notes column is also very sparse and those that are not nan are too hard to interpret. These columns will be dropped."
   ]
  },
  {
   "cell_type": "code",
   "execution_count": 8,
   "id": "x71PmPZ5jHxb",
   "metadata": {
    "id": "x71PmPZ5jHxb"
   },
   "outputs": [],
   "source": [
    "features_to_drop = ['contraband_found', 'contraband_drugs', 'contraband_weapons', 'search_basis', 'notes']\n",
    "df.drop(features_to_drop, axis=1, inplace=True)"
   ]
  },
  {
   "cell_type": "code",
   "execution_count": 9,
   "id": "qLpb2-MVjM4K",
   "metadata": {
    "colab": {
     "base_uri": "https://localhost:8080/"
    },
    "id": "qLpb2-MVjM4K",
    "outputId": "a4c2dd58-282b-4bed-c7a5-14306e74c4c0"
   },
   "outputs": [
    {
     "name": "stdout",
     "output_type": "stream",
     "text": [
      "<class 'pandas.core.frame.DataFrame'>\n",
      "RangeIndex: 3092351 entries, 0 to 3092350\n",
      "Data columns (total 24 columns):\n",
      " #   Column                      Dtype  \n",
      "---  ------                      -----  \n",
      " 0   date                        object \n",
      " 1   time                        object \n",
      " 2   location                    object \n",
      " 3   lat                         float64\n",
      " 4   lng                         float64\n",
      " 5   precinct                    object \n",
      " 6   reporting_area              float64\n",
      " 7   zone                        object \n",
      " 8   subject_age                 float64\n",
      " 9   subject_race                object \n",
      " 10  subject_sex                 object \n",
      " 11  officer_id_hash             object \n",
      " 12  type                        object \n",
      " 13  violation                   object \n",
      " 14  arrest_made                 object \n",
      " 15  citation_issued             object \n",
      " 16  warning_issued              object \n",
      " 17  outcome                     object \n",
      " 18  frisk_performed             object \n",
      " 19  search_conducted            object \n",
      " 20  search_person               object \n",
      " 21  search_vehicle              object \n",
      " 22  reason_for_stop             object \n",
      " 23  vehicle_registration_state  object \n",
      "dtypes: float64(4), object(20)\n",
      "memory usage: 566.2+ MB\n"
     ]
    },
    {
     "data": {
      "text/plain": [
       "date                               0\n",
       "time                            5467\n",
       "location                           0\n",
       "lat                           187106\n",
       "lng                           187106\n",
       "precinct                      390222\n",
       "reporting_area                332393\n",
       "zone                          390222\n",
       "subject_age                      839\n",
       "subject_race                    1850\n",
       "subject_sex                    12822\n",
       "officer_id_hash                   11\n",
       "type                               0\n",
       "violation                       8020\n",
       "arrest_made                       28\n",
       "citation_issued                  320\n",
       "warning_issued                   337\n",
       "outcome                         1935\n",
       "frisk_performed                   22\n",
       "search_conducted                  39\n",
       "search_person                     43\n",
       "search_vehicle                    41\n",
       "reason_for_stop                 8020\n",
       "vehicle_registration_state     31791\n",
       "dtype: int64"
      ]
     },
     "execution_count": 9,
     "metadata": {},
     "output_type": "execute_result"
    }
   ],
   "source": [
    "df.info()\n",
    "df.isnull().sum()"
   ]
  },
  {
   "cell_type": "code",
   "execution_count": 10,
   "id": "47yi0ZFpjZpp",
   "metadata": {
    "colab": {
     "base_uri": "https://localhost:8080/"
    },
    "id": "47yi0ZFpjZpp",
    "outputId": "bc867159-78f1-416b-c04d-9bcaebb5d492"
   },
   "outputs": [
    {
     "data": {
      "text/plain": [
       "array(['vehicular'], dtype=object)"
      ]
     },
     "execution_count": 10,
     "metadata": {},
     "output_type": "execute_result"
    }
   ],
   "source": [
    "df['type'].unique()"
   ]
  },
  {
   "cell_type": "markdown",
   "id": "uRanXq5MjgkD",
   "metadata": {
    "id": "uRanXq5MjgkD"
   },
   "source": [
    "All type values are the same: 'vehicular', so this feature can be dropped."
   ]
  },
  {
   "cell_type": "code",
   "execution_count": 11,
   "id": "dbBD4tGyjhfa",
   "metadata": {
    "id": "dbBD4tGyjhfa"
   },
   "outputs": [],
   "source": [
    "df.drop('type', axis=1, inplace=True)"
   ]
  },
  {
   "cell_type": "code",
   "execution_count": 12,
   "id": "Uc4IvtZBjmvC",
   "metadata": {
    "colab": {
     "base_uri": "https://localhost:8080/"
    },
    "id": "Uc4IvtZBjmvC",
    "outputId": "5ad322f5-79fd-4ccb-b99d-1131f5d4a06b"
   },
   "outputs": [
    {
     "data": {
      "text/plain": [
       "0.002593496016461262"
      ]
     },
     "execution_count": 12,
     "metadata": {},
     "output_type": "execute_result"
    }
   ],
   "source": [
    "df['violation'].value_counts()\n",
    "df['violation'].isnull().sum()/df['violation'].shape[0]"
   ]
  },
  {
   "cell_type": "markdown",
   "id": "DhGZJ7MCjuqJ",
   "metadata": {
    "id": "DhGZJ7MCjuqJ"
   },
   "source": [
    "This is a good feature. Less that 1% nan and good categorical groupings."
   ]
  },
  {
   "cell_type": "code",
   "execution_count": 13,
   "id": "a9VAI4wFoUIG",
   "metadata": {
    "colab": {
     "base_uri": "https://localhost:8080/"
    },
    "id": "a9VAI4wFoUIG",
    "outputId": "73a88313-6235-4c81-89bc-b3dc4981850d"
   },
   "outputs": [
    {
     "data": {
      "text/plain": [
       "reason_for_stop\n",
       "moving traffic violation       1546865\n",
       "vehicle equipment violation     996282\n",
       "safety violation                186139\n",
       "registration                    185756\n",
       "seatbelt violation              103199\n",
       "investigative stop               56489\n",
       "parking violation                 8483\n",
       "child restraint                   1118\n",
       "Name: count, dtype: int64"
      ]
     },
     "execution_count": 13,
     "metadata": {},
     "output_type": "execute_result"
    }
   ],
   "source": [
    "df['reason_for_stop'].value_counts()"
   ]
  },
  {
   "cell_type": "markdown",
   "id": "f3VSq4-aoaoO",
   "metadata": {
    "id": "f3VSq4-aoaoO"
   },
   "source": [
    "Looks like 'reason_for_stop' is a duplicate of 'violation'. Dropping."
   ]
  },
  {
   "cell_type": "code",
   "execution_count": 14,
   "id": "ARybzb_uoiut",
   "metadata": {
    "id": "ARybzb_uoiut"
   },
   "outputs": [],
   "source": [
    "df.drop('reason_for_stop', axis=1, inplace=True)"
   ]
  },
  {
   "cell_type": "code",
   "execution_count": 15,
   "id": "giYVaCsZkEVL",
   "metadata": {
    "colab": {
     "base_uri": "https://localhost:8080/",
     "height": 424
    },
    "id": "giYVaCsZkEVL",
    "outputId": "3ceef5f3-a599-4d02-ef60-923c73812742"
   },
   "outputs": [
    {
     "data": {
      "text/html": [
       "<div>\n",
       "<style scoped>\n",
       "    .dataframe tbody tr th:only-of-type {\n",
       "        vertical-align: middle;\n",
       "    }\n",
       "\n",
       "    .dataframe tbody tr th {\n",
       "        vertical-align: top;\n",
       "    }\n",
       "\n",
       "    .dataframe thead th {\n",
       "        text-align: right;\n",
       "    }\n",
       "</style>\n",
       "<table border=\"1\" class=\"dataframe\">\n",
       "  <thead>\n",
       "    <tr style=\"text-align: right;\">\n",
       "      <th></th>\n",
       "      <th>arrest_made</th>\n",
       "      <th>citation_issued</th>\n",
       "      <th>warning_issued</th>\n",
       "      <th>outcome</th>\n",
       "    </tr>\n",
       "  </thead>\n",
       "  <tbody>\n",
       "    <tr>\n",
       "      <th>0</th>\n",
       "      <td>False</td>\n",
       "      <td>False</td>\n",
       "      <td>True</td>\n",
       "      <td>warning</td>\n",
       "    </tr>\n",
       "    <tr>\n",
       "      <th>1</th>\n",
       "      <td>False</td>\n",
       "      <td>True</td>\n",
       "      <td>False</td>\n",
       "      <td>citation</td>\n",
       "    </tr>\n",
       "    <tr>\n",
       "      <th>2</th>\n",
       "      <td>False</td>\n",
       "      <td>False</td>\n",
       "      <td>True</td>\n",
       "      <td>warning</td>\n",
       "    </tr>\n",
       "    <tr>\n",
       "      <th>3</th>\n",
       "      <td>False</td>\n",
       "      <td>False</td>\n",
       "      <td>True</td>\n",
       "      <td>warning</td>\n",
       "    </tr>\n",
       "    <tr>\n",
       "      <th>4</th>\n",
       "      <td>False</td>\n",
       "      <td>False</td>\n",
       "      <td>True</td>\n",
       "      <td>warning</td>\n",
       "    </tr>\n",
       "    <tr>\n",
       "      <th>...</th>\n",
       "      <td>...</td>\n",
       "      <td>...</td>\n",
       "      <td>...</td>\n",
       "      <td>...</td>\n",
       "    </tr>\n",
       "    <tr>\n",
       "      <th>3092346</th>\n",
       "      <td>False</td>\n",
       "      <td>False</td>\n",
       "      <td>True</td>\n",
       "      <td>warning</td>\n",
       "    </tr>\n",
       "    <tr>\n",
       "      <th>3092347</th>\n",
       "      <td>False</td>\n",
       "      <td>False</td>\n",
       "      <td>True</td>\n",
       "      <td>warning</td>\n",
       "    </tr>\n",
       "    <tr>\n",
       "      <th>3092348</th>\n",
       "      <td>False</td>\n",
       "      <td>False</td>\n",
       "      <td>True</td>\n",
       "      <td>warning</td>\n",
       "    </tr>\n",
       "    <tr>\n",
       "      <th>3092349</th>\n",
       "      <td>False</td>\n",
       "      <td>True</td>\n",
       "      <td>False</td>\n",
       "      <td>citation</td>\n",
       "    </tr>\n",
       "    <tr>\n",
       "      <th>3092350</th>\n",
       "      <td>False</td>\n",
       "      <td>True</td>\n",
       "      <td>False</td>\n",
       "      <td>citation</td>\n",
       "    </tr>\n",
       "  </tbody>\n",
       "</table>\n",
       "<p>3092351 rows × 4 columns</p>\n",
       "</div>"
      ],
      "text/plain": [
       "        arrest_made citation_issued warning_issued   outcome\n",
       "0             False           False           True   warning\n",
       "1             False            True          False  citation\n",
       "2             False           False           True   warning\n",
       "3             False           False           True   warning\n",
       "4             False           False           True   warning\n",
       "...             ...             ...            ...       ...\n",
       "3092346       False           False           True   warning\n",
       "3092347       False           False           True   warning\n",
       "3092348       False           False           True   warning\n",
       "3092349       False            True          False  citation\n",
       "3092350       False            True          False  citation\n",
       "\n",
       "[3092351 rows x 4 columns]"
      ]
     },
     "execution_count": 15,
     "metadata": {},
     "output_type": "execute_result"
    }
   ],
   "source": [
    "infraction_variables = ['arrest_made', 'citation_issued', 'warning_issued', 'outcome']\n",
    "infractions = df[infraction_variables]\n",
    "infractions"
   ]
  },
  {
   "cell_type": "markdown",
   "id": "s722Ggqclc5c",
   "metadata": {
    "id": "s722Ggqclc5c"
   },
   "source": [
    "The arrest_made, citation_issued, warning_issued variables are all captured by the outcome variable. Dropping these variables. We may need to do some feature engineering to transform 'outcome' to a boolean infraction_issued variable."
   ]
  },
  {
   "cell_type": "code",
   "execution_count": 16,
   "id": "0J3_9SMXlvHH",
   "metadata": {
    "colab": {
     "base_uri": "https://localhost:8080/"
    },
    "id": "0J3_9SMXlvHH",
    "outputId": "a7995151-004a-4282-dba3-03d318e35486"
   },
   "outputs": [
    {
     "name": "stdout",
     "output_type": "stream",
     "text": [
      "<class 'pandas.core.frame.DataFrame'>\n",
      "RangeIndex: 3092351 entries, 0 to 3092350\n",
      "Data columns (total 19 columns):\n",
      " #   Column                      Dtype  \n",
      "---  ------                      -----  \n",
      " 0   date                        object \n",
      " 1   time                        object \n",
      " 2   location                    object \n",
      " 3   lat                         float64\n",
      " 4   lng                         float64\n",
      " 5   precinct                    object \n",
      " 6   reporting_area              float64\n",
      " 7   zone                        object \n",
      " 8   subject_age                 float64\n",
      " 9   subject_race                object \n",
      " 10  subject_sex                 object \n",
      " 11  officer_id_hash             object \n",
      " 12  violation                   object \n",
      " 13  outcome                     object \n",
      " 14  frisk_performed             object \n",
      " 15  search_conducted            object \n",
      " 16  search_person               object \n",
      " 17  search_vehicle              object \n",
      " 18  vehicle_registration_state  object \n",
      "dtypes: float64(4), object(15)\n",
      "memory usage: 448.3+ MB\n"
     ]
    }
   ],
   "source": [
    "infractions_to_drop = ['arrest_made', 'citation_issued', 'warning_issued']\n",
    "df.drop(infractions_to_drop, axis=1, inplace=True)\n",
    "df.info()"
   ]
  },
  {
   "cell_type": "code",
   "execution_count": 17,
   "id": "VTpQFhm5-WJ1",
   "metadata": {
    "colab": {
     "base_uri": "https://localhost:8080/"
    },
    "id": "VTpQFhm5-WJ1",
    "outputId": "50647524-eabe-4fa9-fe9c-965376c3e021"
   },
   "outputs": [
    {
     "data": {
      "text/plain": [
       "date                               0\n",
       "time                            5467\n",
       "location                           0\n",
       "lat                           187106\n",
       "lng                           187106\n",
       "precinct                      390222\n",
       "reporting_area                332393\n",
       "zone                          390222\n",
       "subject_age                      839\n",
       "subject_race                    1850\n",
       "subject_sex                    12822\n",
       "officer_id_hash                   11\n",
       "violation                       8020\n",
       "outcome                         1935\n",
       "frisk_performed                   22\n",
       "search_conducted                  39\n",
       "search_person                     43\n",
       "search_vehicle                    41\n",
       "vehicle_registration_state     31791\n",
       "dtype: int64"
      ]
     },
     "execution_count": 17,
     "metadata": {},
     "output_type": "execute_result"
    }
   ],
   "source": [
    "df.isnull().sum()"
   ]
  },
  {
   "cell_type": "markdown",
   "id": "ce53143f-8eb4-44a2-ba5f-a11df8e5b968",
   "metadata": {
    "colab": {
     "base_uri": "https://localhost:8080/"
    },
    "id": "VTpQFhm5-WJ1",
    "outputId": "50647524-eabe-4fa9-fe9c-965376c3e021"
   },
   "source": [
    "#### Feature Engineering and Advanced Munging\n",
    "First we will try to convert some of those zip codes from our 'location' feature into usable data to fill in some missing latitude and longitude values."
   ]
  },
  {
   "cell_type": "code",
   "execution_count": 18,
   "id": "650j6Tc5mds5",
   "metadata": {
    "colab": {
     "base_uri": "https://localhost:8080/"
    },
    "id": "650j6Tc5mds5",
    "outputId": "3a79b23f-79f7-46ac-8fa7-a17b091d8956"
   },
   "outputs": [
    {
     "data": {
      "text/plain": [
       "79785"
      ]
     },
     "execution_count": 18,
     "metadata": {},
     "output_type": "execute_result"
    }
   ],
   "source": [
    "# Select rows where 'lat' is null and extract zip from 'location'\n",
    "no_lat = df[df['lat'].isnull()].copy()\n",
    "no_lat.loc[:,'zip_code'] = no_lat['location'].str.extract(r'(\\d{5})')\n",
    "no_lat.head()\n",
    "no_lat['zip_code'].isnull().sum()"
   ]
  },
  {
   "cell_type": "markdown",
   "id": "Gk3Wq2FoyRVN",
   "metadata": {
    "id": "Gk3Wq2FoyRVN"
   },
   "source": [
    "It appears we have ~80k or around 2% of rows with no lat/long data. The first API we found to process this geolocation data limits requests to one a second, meaning that with nearly 80k requests it would take this code a little over twenty-two hours to convert our zip code data into latitudes and longitudes. As an academic exercise and proof of concept we will apply this method to a small sample of our data but the computational and time costs made this first approach impracticable."
   ]
  },
  {
   "cell_type": "code",
   "execution_count": 19,
   "id": "c20e30bb-d70c-40c9-9955-f35b7de1ad13",
   "metadata": {},
   "outputs": [
    {
     "name": "stdout",
     "output_type": "stream",
     "text": [
      "No suitable result found for address: nan\n",
      "No suitable result found for address: nan\n",
      "No suitable result found for address: nan\n",
      "No suitable result found for address: nan\n",
      "No suitable result found for address: nan\n",
      "No suitable result found for address: nan\n",
      "No suitable result found for address: nan\n",
      "No suitable result found for address: nan\n",
      "No suitable result found for address: nan\n"
     ]
    },
    {
     "data": {
      "text/plain": [
       "2552600                 None\n",
       "302799                  None\n",
       "1272964    36.16252533066202\n",
       "1808288                 None\n",
       "2359361                 None\n",
       "2836578                 None\n",
       "1624489                 None\n",
       "2708698                 None\n",
       "153407                  None\n",
       "2961741                 None\n",
       "Name: lat, dtype: object"
      ]
     },
     "execution_count": 19,
     "metadata": {},
     "output_type": "execute_result"
    }
   ],
   "source": [
    "sample = no_lat.sample(10)\n",
    "sample['lat']\n",
    "\n",
    "def make_api_request(address):\n",
    "    url = f\"https://geocode.maps.co/search?q={address}&api_key=65d5ac3a7cde5814451878uqh60f3dd\"\n",
    "    response = requests.get(url)\n",
    "    if response.status_code == 200:\n",
    "        data = response.json()\n",
    "        for result in data:\n",
    "            if any(keyword in result.get('display_name', '') for keyword in ['Nashville', 'Tennessee', 'TN', 'NASHVILLE']):\n",
    "                time.sleep(1)  # Add delay of 1 second before returning\n",
    "                return result.get('lat'), result.get('lon')  # Safely get lat and lon\n",
    "        print(f\"No suitable result found for address: {address}\")\n",
    "        time.sleep(1)  # Add delay of 1 second before returning\n",
    "        return None, None\n",
    "    else:\n",
    "        print(f\"Failed to retrieve data for address: {address}\")\n",
    "        time.sleep(1)  # Add delay of 1 second before returning\n",
    "        return None, None\n",
    "\n",
    "# Apply function to 'zip_code' column and assign lat and lng to new columns\n",
    "sample[['lat', 'lng']] = sample['zip_code'].apply(lambda x: pd.Series(make_api_request(x)))\n",
    "sample['lat']"
   ]
  },
  {
   "cell_type": "markdown",
   "id": "49eaf9dd-32d3-4ca8-b566-7fc4ac41d7fa",
   "metadata": {},
   "source": [
    "Though this first approach would be too slow for our dataset, our second approach using the pgeocode library was able to handle much larger requests:"
   ]
  },
  {
   "cell_type": "code",
   "execution_count": 20,
   "id": "dc0efdfb-e538-4545-97bd-4f4b7bb230ec",
   "metadata": {},
   "outputs": [],
   "source": [
    "def zip_to_lat_long(zip_code):\n",
    "    nomi = pgeocode.Nominatim('us')\n",
    "    location = nomi.query_postal_code(zip_code.iloc[0])\n",
    "    latitude = location['latitude']\n",
    "    longitude = location['longitude']\n",
    "    \n",
    "    return pd.Series([latitude, longitude])\n",
    "\n",
    "\n",
    "df['zip_code'] = df['location'].str.extract(r'(\\d{5})')\n",
    "nan_lat_mask = df['lat'].isnull()\n",
    "zips_to_pull = df.loc[nan_lat_mask, 'zip_code']\n",
    "zip_codes = zips_to_pull.dropna()\n",
    "zip_codes.drop_duplicates(inplace=True)\n",
    "zip_codes.reset_index(drop=True, inplace=True)\n",
    "zip_codes.columns=['zip_code']\n",
    "zip_codes = zip_codes.to_frame()\n",
    "zip_codes[['lat', 'lng']] = zip_codes.apply(lambda x: zip_to_lat_long(x), axis=1)\n",
    "\n",
    "\n",
    "df.isna().sum()\n",
    "\n",
    "df.loc[nan_lat_mask, 'lat']= df[nan_lat_mask].zip_code.map(dict(zip_codes[['zip_code','lat']].values))\n",
    "df.loc[nan_lat_mask, 'lng']= df[nan_lat_mask].zip_code.map(dict(zip_codes[['zip_code','lng']].values))\n",
    "df.drop(['location'], inplace=True, axis=1)"
   ]
  },
  {
   "cell_type": "markdown",
   "id": "e2f6b79a-3d1a-43d0-b25c-e943eca3fed7",
   "metadata": {},
   "source": [
    "Next we will address our date/time values to extract some possibly predictive features, such as the day of the week, day of the month, and month."
   ]
  },
  {
   "cell_type": "code",
   "execution_count": 21,
   "id": "4164e4c6-8d27-4b1e-b570-e09f3ab9114f",
   "metadata": {},
   "outputs": [],
   "source": [
    "df['day_of_week'] = pd.to_datetime(df['date']).dt.day_name()\n",
    "df['month'] = pd.to_datetime(df['date']).dt.month\n",
    "df['day_of_month'] = pd.to_datetime(df['date']).dt.day"
   ]
  },
  {
   "cell_type": "markdown",
   "id": "764471a1-50ed-45c9-bb20-68dd8206be89",
   "metadata": {},
   "source": [
    "And for the final bit of data refinement, our target is warning/infraction, so we are converting arrests and citations to infractions:"
   ]
  },
  {
   "cell_type": "code",
   "execution_count": 22,
   "id": "92f55d28-cf36-4f56-ad41-84a39aec3332",
   "metadata": {},
   "outputs": [],
   "source": [
    "df['outcome'] = df['outcome'].apply(lambda x: x if x=='warning' else 'infraction')"
   ]
  },
  {
   "cell_type": "markdown",
   "id": "245aa58e-27a2-4ef0-8c1f-73135015de52",
   "metadata": {},
   "source": [
    "#### Visualizations\n",
    "\n",
    "Now that our data has been trimmed down to remove duplicates, most empty values, and probably irrelevant features to the question at hand, we can begin to do some visualizations. Let's begin with a breakdown of frequencies of stops by subject race, which we suspect may be a significant predictor for our purposes."
   ]
  },
  {
   "cell_type": "code",
   "execution_count": 23,
   "id": "b8a96b87-0c38-4774-91da-b2d19f8b0506",
   "metadata": {},
   "outputs": [
    {
     "data": {
      "image/png": "[encoded data removed]",
      "text/plain": [
       "<Figure size 640x480 with 1 Axes>"
      ]
     },
     "metadata": {},
     "output_type": "display_data"
    }
   ],
   "source": [
    "sns.countplot(data=df, x='subject_race')\n",
    "plt.title('Distribution of Subject Race')\n",
    "plt.xticks(rotation=45)  # Rotate x-axis labels if needed\n",
    "plt.show()"
   ]
  },
  {
   "cell_type": "markdown",
   "id": "2b47b8f1-2399-4393-a015-bad3383c71b8",
   "metadata": {},
   "source": [
    "Per the US Census Bureau, the racial composition of Tennesseee for our three largest values are 59.1% White, 26.8% Black, 10.8% Hispanic or Latino. (https://www.census.gov/quickfacts/fact/table/nashvilledavidsonmetropolitangovernmentbalancetennessee/PST045222) When we compare these values to our dataset we get the following"
   ]
  },
  {
   "cell_type": "code",
   "execution_count": 24,
   "id": "f3fc6c95-935a-4af8-abe8-e32f1147918f",
   "metadata": {},
   "outputs": [
    {
     "name": "stdout",
     "output_type": "stream",
     "text": [
      "White: 54.03%, Black: 37.70%, Hispanic: 5.33%\n"
     ]
    }
   ],
   "source": [
    "white_perc = (df[df['subject_race'] == 'white'].shape[0] / df.shape[0])*100\n",
    "black_perc = (df[df['subject_race'] == 'black'].shape[0] / df.shape[0])*100\n",
    "hispanic_perc = (df[df['subject_race'] == 'hispanic'].shape[0] / df.shape[0])*100\n",
    "print(\"White: {:.2f}%, Black: {:.2f}%, Hispanic: {:.2f}%\".format(white_perc, black_perc, hispanic_perc))"
   ]
  },
  {
   "cell_type": "markdown",
   "id": "dcdf9721-3e93-4180-bb6e-4a8e4c47fa25",
   "metadata": {},
   "source": [
    "According to this preliminary data, White people are slightly underrepresented in traffic stops, Black people are significantly overrepresented by around 40% more than expected by demographic breakdown, and Hispanic people are greatly underrepresented, at nearly half the rate of the general population. Next, let's begin taking a look at the outcomes themselves"
   ]
  },
  {
   "cell_type": "code",
   "execution_count": 25,
   "id": "e003a00a-87c9-494f-a955-837cf7d25433",
   "metadata": {},
   "outputs": [
    {
     "data": {
      "image/png": "[encoded data removed]",
      "text/plain": [
       "<Figure size 1000x600 with 1 Axes>"
      ]
     },
     "metadata": {},
     "output_type": "display_data"
    }
   ],
   "source": [
    "plt.figure(figsize=(10, 6))\n",
    "sns.countplot(data=df, x='outcome', order = df['outcome'].value_counts().index)\n",
    "plt.title('Traffic Stops by Outcome')\n",
    "plt.xticks(rotation=45)\n",
    "plt.show()"
   ]
  },
  {
   "cell_type": "markdown",
   "id": "2a3f3a7d-a727-4e22-ab09-90a00f526720",
   "metadata": {},
   "source": [
    "Distribution by Violation"
   ]
  },
  {
   "cell_type": "code",
   "execution_count": 26,
   "id": "4c57bcc6-d08c-4b55-965b-f49c9f2aac7e",
   "metadata": {},
   "outputs": [
    {
     "data": {
      "image/png": "[encoded data removed]",
      "text/plain": [
       "<Figure size 1200x800 with 1 Axes>"
      ]
     },
     "metadata": {},
     "output_type": "display_data"
    }
   ],
   "source": [
    "plt.figure(figsize=(12, 8))\n",
    "sns.countplot(data=df, y='violation', order=df['violation'].value_counts().index)\n",
    "plt.title('Distribution of Violations')\n",
    "plt.xlabel('Count')\n",
    "plt.ylabel('Violation Type')\n",
    "plt.show()"
   ]
  },
  {
   "cell_type": "markdown",
   "id": "add93d74-b8e5-4e5c-b8d3-729e86b352df",
   "metadata": {},
   "source": [
    "Ratios of Infractions to Warnings by Race"
   ]
  },
  {
   "cell_type": "code",
   "execution_count": 27,
   "id": "846d824e-fc0e-49f0-939b-25d8202aaa41",
   "metadata": {},
   "outputs": [
    {
     "name": "stdout",
     "output_type": "stream",
     "text": [
      "Ratio of infractions to warnings by race:\n",
      "subject_race\n",
      "asian/pacific islander    0.248405\n",
      "black                     0.290060\n",
      "hispanic                  0.597406\n",
      "other                     0.457387\n",
      "unknown                   0.417730\n",
      "white                     0.300546\n",
      "Name: infraction_to_warning_ratio, dtype: float64\n"
     ]
    },
    {
     "data": {
      "image/png": "[encoded data removed]",
      "text/plain": [
       "<Figure size 1000x600 with 1 Axes>"
      ]
     },
     "metadata": {},
     "output_type": "display_data"
    }
   ],
   "source": [
    "outcome_counts = df.groupby('subject_race')['outcome'].value_counts().unstack(fill_value=0)\n",
    "\n",
    "outcome_counts['infraction_to_warning_ratio'] = outcome_counts['infraction'] / outcome_counts['warning']\n",
    "\n",
    "print(\"Ratio of infractions to warnings by race:\")\n",
    "print(outcome_counts['infraction_to_warning_ratio'])\n",
    "\n",
    "outcome_counts_sorted = outcome_counts.sort_values(by='infraction_to_warning_ratio', ascending=False)\n",
    "\n",
    "plt.figure(figsize=(10, 6))\n",
    "outcome_counts_sorted['infraction_to_warning_ratio'].plot(kind='bar', color='skyblue')\n",
    "plt.title('Ratio of Infractions to Warnings by Race')\n",
    "plt.xlabel('Race')\n",
    "plt.ylabel('Infraction to Warning Ratio')\n",
    "plt.xticks(rotation=45, ha='right')\n",
    "plt.grid(axis='y', linestyle='--', alpha=0.7)\n",
    "plt.tight_layout()\n",
    "plt.show()"
   ]
  },
  {
   "cell_type": "markdown",
   "id": "c216f9d2-b397-4f28-a76e-b37df1276834",
   "metadata": {},
   "source": [
    "These initial evaluations of our data imply that despite being underrepresented in total number of stops, Hispanic people are more likely to receive a citation or be arrested during a stop. "
   ]
  },
  {
   "cell_type": "markdown",
   "id": "04849db4-4d24-4c15-afc5-cddc26dc1e5a",
   "metadata": {},
   "source": [
    "## Methods\n",
    "\n",
    "Everything that follows was a process of trial and error. Our dataset presented some challenges as we investigated the best \n",
    "model to train for our predictions. In particular the overwhelming amount of categorical features made things difficult. For instance, the officer_id_hash feature has 2,295 unique values. If we were to use onehot encoding, this would make our dataset very wide.\n",
    "\n",
    "As we looked at models, LogisticRegression was considered and we cleaned and engineered our data for that type of model. This included one-hot encoding what we could, scaling features and dropping categorical features that didn't make any sense. Our results were barely better than just guessing \"warning\" for every outcome.\n",
    "\n",
    "KNNClassifier gave slightly better results, however proved to be mostly unusable based on our sample size of 3million+.\n",
    "\n",
    "We explored the DecisionTreeClassifier. Going into the project we figured this would be our model. It deals with categorical data well, so we didn't have to drop as many features, however, it does not deal with nan values. So, after cleaning nan values the best we could, we ended up with 2.7million samples, which was fine. However, we couldn't get the model to do much better than 79%, which is a  2% improvement on our baseline of guessing \"warning\" for every outcome. This testing was done with gridsearch and feature sweeping.\n",
    "\n",
    "After a suggestion from the professor, we looked into HistGradientBoostingClassifier. This model is a bit of a black box for us, and a huge jump from the basic models we learned this semester. However it offers a lot of advantages. It works very well with categorical data, it works around nan values, and it is optimized for speed on large datasets. Without any feature selection or hyper-paramter tuning the model gave us around 85%, which was way better than our previous models.\n",
    "\n",
    "All of the following data engineering is based around our use of this model."
   ]
  },
  {
   "cell_type": "code",
   "execution_count": 28,
   "id": "0f91ab8b-df33-46a2-aea4-49b019169282",
   "metadata": {},
   "outputs": [],
   "source": [
    "df_encoded = df.copy()\n",
    "df_encoded['precinct'] = pd.to_numeric(df_encoded['precinct'], errors='coerce')\n",
    "df_encoded['zone'] = pd.to_numeric(df_encoded['zone'], errors='coerce')"
   ]
  },
  {
   "cell_type": "markdown",
   "id": "e2293426-19d5-45ff-8f78-19cb90b74021",
   "metadata": {},
   "source": [
    "There were a few typos in the precinct and zone features, so we are converting them to numeric and coercing the errors to nan since our model will handle them just fine.\n",
    "\n",
    "The HistBoostGradient model works really well with categorical features, so we are using an OrdinalEncoder to convert our categorical features to numerical representations."
   ]
  },
  {
   "cell_type": "code",
   "execution_count": 29,
   "id": "1b285f93-458f-4e8c-b81f-d082abaf1ac7",
   "metadata": {},
   "outputs": [],
   "source": [
    "ord_encoder = OrdinalEncoder(handle_unknown=\"use_encoded_value\", unknown_value=-1)\n",
    "\n",
    "cat_columns = [\n",
    "    'date',\n",
    "    'time',\n",
    "    'precinct',\n",
    "    'zone',\n",
    "    'subject_race',\n",
    "    'subject_sex',\n",
    "    'officer_id_hash',\n",
    "    'violation',\n",
    "    'outcome',\n",
    "    'frisk_performed',\n",
    "    'search_conducted',\n",
    "    'search_person',\n",
    "    'search_vehicle',\n",
    "    'vehicle_registration_state',\n",
    "    'zip_code',\n",
    "    'day_of_week',\n",
    "    'month',\n",
    "    'day_of_month'\n",
    "    ]\n",
    "\n",
    "df_encoded[cat_columns] = ord_encoder.fit_transform(df_encoded[cat_columns])"
   ]
  },
  {
   "cell_type": "markdown",
   "id": "844ac2dc-210f-4de6-a8a7-2f7b879ce012",
   "metadata": {},
   "source": [
    "Using GridSearchCV we found the best setting for our model were learning_rate=0.6, max_depth=8. This model is a little confusing for us, but we understand max_depth.\n",
    "\n",
    "Once we had our best hyper-parameters we did a feature sweep and found that 'day_of_month', 'search_conducted' and 'day_of_week' were noisy features. Our final feature set looks like this:\n",
    "['subject_sex','search_vehicle','subject_race','month','zip_code','lat','officer_id_hash', 'reporting_area', 'search_person', 'date', 'violation', 'time', 'subject_age', 'frisk_performed', 'lng', 'zone', 'precinct', 'vehicle_registration_state']. All that is left is to train and test this model\n"
   ]
  },
  {
   "cell_type": "code",
   "execution_count": 30,
   "id": "558d9ef4-c9bc-43d2-b559-4bd33e11a200",
   "metadata": {},
   "outputs": [
    {
     "data": {
      "text/plain": [
       "0.8467510181027179"
      ]
     },
     "execution_count": 30,
     "metadata": {},
     "output_type": "execute_result"
    }
   ],
   "source": [
    "selected_features =['subject_sex','search_vehicle','subject_race','month','zip_code','lat','officer_id_hash', 'reporting_area', 'search_person', 'date', 'violation', 'time', 'subject_age', 'frisk_performed', 'lng', 'zone', 'precinct', 'vehicle_registration_state']\n",
    "\n",
    "X = df_encoded[selected_features]\n",
    "y = df_encoded['outcome']\n",
    "\n",
    "X_train, X_test, y_train, y_test = train_test_split(X,y, test_size=0.3)\n",
    "\n",
    "\n",
    "hist_gradient = HistGradientBoostingClassifier(learning_rate=0.6, max_depth=8)\n",
    "hist_gradient.fit(X_train, y_train)\n",
    "\n",
    "\n",
    "hist_gradient.score(X_test, y_test)"
   ]
  },
  {
   "cell_type": "markdown",
   "id": "8f54e8fd-6aed-4a1e-b607-dfdc81c09e42",
   "metadata": {},
   "source": [
    "## Results and Discussion\n",
    "\n",
    "As you can see, we got close to 85% accuracy using this model. This model was a vast improvement over all the other models. However, one down side is that the model is not very interpretable. It is difficult to figure out which features had the largest\n",
    "effect, as is the case for most \"black box\" models, but luckily the sklearn toolkit includes some testing of permutations of the model to determine which features were most predictive. "
   ]
  },
  {
   "cell_type": "code",
   "execution_count": 31,
   "id": "9e3f0906-e029-4c9d-804c-ac7e43c0ea45",
   "metadata": {},
   "outputs": [
    {
     "data": {
      "image/png": "[encoded data removed]",
      "text/plain": [
       "<Figure size 1000x600 with 1 Axes>"
      ]
     },
     "metadata": {},
     "output_type": "display_data"
    }
   ],
   "source": [
    "perm_importance = permutation_importance(hist_gradient, X_test, y_test, n_repeats=30, random_state=42)\n",
    "\n",
    "feature_names = X_test.columns\n",
    "\n",
    "fi_df = pd.DataFrame({'Feature': feature_names, 'Importance': perm_importance.importances_mean})\n",
    "\n",
    "fi_df = fi_df.sort_values(by='Importance', ascending=False)\n",
    "\n",
    "plt.figure(figsize=(10, 6))\n",
    "sns.barplot(x='Importance', y='Feature', data=fi_df)\n",
    "plt.title('Permutation Feature Importance')\n",
    "plt.xlabel('Importance')\n",
    "plt.ylabel('Feature')\n",
    "plt.show()"
   ]
  },
  {
   "cell_type": "markdown",
   "id": "91c94828-f6b2-4aa2-a385-1f93f9b1b676",
   "metadata": {},
   "source": [
    "These results were surprising to us, because despite the clear disparities in policing outcomes by race in the data at large and in general, any particular outcome is more strongly predicted by the individual officer who performs the stops, followed by if your traffic stop was escalated to include a search, then by the kind of violation you were stopped for. So to summarize, racial bias in policing is evident from the data as a whole, but the zealousness or permissiveness of particular officers are a much stronger predictor of whether someone gets a ticket or not."
   ]
  }
 ],
 "metadata": {
  "colab": {
   "provenance": []
  },
  "kernelspec": {
   "display_name": "Python 3 (ipykernel)",
   "language": "python",
   "name": "python3"
  },
  "language_info": {
   "codemirror_mode": {
    "name": "ipython",
    "version": 3
   },
   "file_extension": ".py",
   "mimetype": "text/x-python",
   "name": "python",
   "nbconvert_exporter": "python",
   "pygments_lexer": "ipython3",
   "version": "3.11.5"
  }
 },
 "nbformat": 4,
 "nbformat_minor": 5
}
